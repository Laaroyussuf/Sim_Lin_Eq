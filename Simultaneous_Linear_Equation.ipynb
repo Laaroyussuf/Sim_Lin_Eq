{
 "cells": [
  {
   "cell_type": "code",
   "execution_count": 7,
   "id": "41bd3e43",
   "metadata": {},
   "outputs": [
    {
     "name": "stdout",
     "output_type": "stream",
     "text": [
      "Enter the coefficient of each variables in the equations with their signs i.e either + or -\n",
      "x1= 6\n",
      "y1= 2\n",
      "z1= 10\n",
      "x2= 10\n",
      "y2= -3\n",
      "z2= 12\n",
      "The following is your equations: \n",
      "6x + 2y = 10...eqn(1) \n",
      "10x + -3y = 12...eqn(2)\n",
      "x=1.4210526315789473 \n",
      "y=0.7368421052631581\n"
     ]
    }
   ],
   "source": [
    "print(f\"Enter the coefficient of each variables in the equations with their signs i.e either + or -\")\n",
    "def sim_lin_eq():\n",
    "    #This takes in the coefficient of unknowns in the equation with their signs i.e + or -\n",
    "    x1 = int(input(\"x1= \"))\n",
    "    y1 = int(input(\"y1= \"))\n",
    "    z1 = int(input(\"z1= \"))\n",
    "    x2 = int(input(\"x2= \"))\n",
    "    y2 = int(input(\"y2= \"))\n",
    "    z2 = int(input(\"z2= \"))\n",
    "    print(f\"The following is your equations: \")\n",
    "    print(f\"{x1}x + {y1}y = {z1}...eqn(1) \\n{x2}x + {y2}y = {z2}...eqn(2)\")\n",
    "    #The two variables are the two part that make up x value   \n",
    "    x_1 = z1/x1\n",
    "    m_1 = -y1/x1\n",
    "    \n",
    "    #The two parts of x value after substituting in the second equation.     \n",
    "    x_2 = x2 * x_1\n",
    "    m_2 = x2 * m_1\n",
    "    \n",
    "    #Collecting the like term to find y.\n",
    "    y_y = y2 + m_2\n",
    "    coefz2_x2 = z2 - x_2\n",
    "    \n",
    "    #Substituting for the values\n",
    "    y = coefz2_x2/y_y\n",
    "    x = x_1 + (y*m_1)\n",
    "    print(f\"x={x} \\ny={y}\")\n",
    "    \n",
    "sim_lin_eq()"
   ]
  },
  {
   "cell_type": "code",
   "execution_count": 1,
   "id": "4940163b",
   "metadata": {},
   "outputs": [
    {
     "name": "stdout",
     "output_type": "stream",
     "text": [
      "Enter the array dimension(row,col): 2,2\n",
      "\n",
      "\n",
      "\n",
      "Enter the elements of the unknown array(seperated by a comma): -1,2,1,2\n",
      "\n",
      "\n",
      "Enter the elements of the equal to (seperated by a comma): 1,5\n",
      "\n",
      "\n",
      "\n",
      "The solution to the equation=\n",
      " [[2.  1.5]]\n"
     ]
    }
   ],
   "source": [
    "import numpy as np\n",
    "\n",
    "def matrix1(*arr1):\n",
    "\n",
    "    mat_A= np.array(arr1)\n",
    "\n",
    "    mat_A = mat_A.reshape(x,x)\n",
    "\n",
    "    return mat_A\n",
    "\n",
    "def matrix2(*arr2):\n",
    "\n",
    "    mat_B= np.array(arr2)\n",
    "\n",
    "    mat_B = mat_B.reshape(x,1)\n",
    "\n",
    "    return mat_B\n",
    "\n",
    "x,y= eval(input(\"Enter the array dimension(row,col): \"))\n",
    "\n",
    "print(\"\\n\\n\")\n",
    "\n",
    "inp1= eval(input(\"Enter the elements of the unknown array(seperated by a comma): \"))    \n",
    "\n",
    "print(\"\\n\")\n",
    "\n",
    "inp2= eval(input(\"Enter the elements of the equal to (seperated by a comma): \"))\n",
    "\n",
    "matrix1(inp1)\n",
    "\n",
    "mat_B = matrix2(inp2)\n",
    "\n",
    "mat_A_inv = np.linalg.inv(matrix1(inp1))\n",
    "\n",
    "mat_X= np.matmul(mat_A_inv, mat_B)\n",
    "\n",
    "mat_X = np.round_(mat_X,2)\n",
    "\n",
    "print(\"\\n\\n\")\n",
    "\n",
    "print(f\"The solution to the equation=\\n {mat_X.reshape(1,x)}\")"
   ]
  }
 ],
 "metadata": {
  "kernelspec": {
   "display_name": "Python 3 (ipykernel)",
   "language": "python",
   "name": "python3"
  },
  "language_info": {
   "codemirror_mode": {
    "name": "ipython",
    "version": 3
   },
   "file_extension": ".py",
   "mimetype": "text/x-python",
   "name": "python",
   "nbconvert_exporter": "python",
   "pygments_lexer": "ipython3",
   "version": "3.9.7"
  },
  "varInspector": {
   "cols": {
    "lenName": 16,
    "lenType": 16,
    "lenVar": 40
   },
   "kernels_config": {
    "python": {
     "delete_cmd_postfix": "",
     "delete_cmd_prefix": "del ",
     "library": "var_list.py",
     "varRefreshCmd": "print(var_dic_list())"
    },
    "r": {
     "delete_cmd_postfix": ") ",
     "delete_cmd_prefix": "rm(",
     "library": "var_list.r",
     "varRefreshCmd": "cat(var_dic_list()) "
    }
   },
   "types_to_exclude": [
    "module",
    "function",
    "builtin_function_or_method",
    "instance",
    "_Feature"
   ],
   "window_display": false
  }
 },
 "nbformat": 4,
 "nbformat_minor": 5
}
